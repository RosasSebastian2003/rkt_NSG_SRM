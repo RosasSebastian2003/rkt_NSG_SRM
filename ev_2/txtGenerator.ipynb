{
 "cells": [
  {
   "cell_type": "code",
   "execution_count": 9,
   "metadata": {},
   "outputs": [],
   "source": [
    "import os"
   ]
  },
  {
   "cell_type": "code",
   "execution_count": 10,
   "metadata": {},
   "outputs": [],
   "source": [
    "def generate_files(num_files, directory):\n",
    "    # Ensure the directory exists\n",
    "    if not os.path.exists(directory):\n",
    "        os.makedirs(directory)\n",
    "\n",
    "    # The template for the Python scripts\n",
    "    template = \"\"\"b=7\n",
    "a=32.4*(-8.6-b)/6.1e-8\n",
    "d=a**b # Esto es un comentario\n",
    "result=a*(b+2)/(4.8e3-9)\n",
    "x=b**2 + 2*a/b\n",
    "y=(a+b)*(a-b)\n",
    "b = 10.\n",
    "z=[a,b]\n",
    "\"\"\"\n",
    "\n",
    "    # Generate the files\n",
    "    for i in range(1, num_files + 1):\n",
    "        with open(os.path.join(directory, f'archivofuente{i}.txt'), 'w') as f:\n",
    "            f.write(template)"
   ]
  },
  {
   "cell_type": "code",
   "execution_count": 11,
   "metadata": {},
   "outputs": [],
   "source": [
    "def generate_regExfiles(num_files, directory):\n",
    "    # Ensure the directory exists\n",
    "    if not os.path.exists(directory):\n",
    "        os.makedirs(directory)\n",
    "\n",
    "    # The template for the Python scripts\n",
    "    template = \"\"\"^[A-Za-z](?>[A-Za-z]|[0-9]|_)*,identifier\n",
    "^-?(?>[0-9]+\\.[0-9]+)(?>e[+-]?[0-9]+)?,floating-point\n",
    "^[0-9]+[0-9]*,integer\n",
    "^//.*,comment\n",
    "^\\*,multiplication\n",
    "^=,assignment\n",
    "^\\+,addition\n",
    "^\\-,subtraction\n",
    "^/,division\n",
    "^\\(,left-parenthesis\n",
    "^\\),right-parenthesis\n",
    "^\\^,caret\n",
    "^ +,whitespace\n",
    "\"\"\"\n",
    "\n",
    "    # Generate the files\n",
    "    for i in range(1, num_files + 1):\n",
    "        with open(os.path.join(directory, f'archivoexpresiones{i}.txt'), 'w') as f:\n",
    "            f.write(template)"
   ]
  },
  {
   "cell_type": "code",
   "execution_count": 12,
   "metadata": {},
   "outputs": [],
   "source": [
    "# Carpeta 1\n",
    "generate_files(100, \"./carpeta1\")\n",
    "generate_regExfiles(100, \"./carpeta1\")\n",
    "\n",
    "# Carpeta 2\n",
    "generate_files(100, \"./carpeta2\")\n",
    "generate_regExfiles(100, \"./carpeta2\")"
   ]
  }
 ],
 "metadata": {
  "kernelspec": {
   "display_name": "Python 3",
   "language": "python",
   "name": "python3"
  },
  "language_info": {
   "codemirror_mode": {
    "name": "ipython",
    "version": 3
   },
   "file_extension": ".py",
   "mimetype": "text/x-python",
   "name": "python",
   "nbconvert_exporter": "python",
   "pygments_lexer": "ipython3",
   "version": "3.10.5"
  }
 },
 "nbformat": 4,
 "nbformat_minor": 2
}
